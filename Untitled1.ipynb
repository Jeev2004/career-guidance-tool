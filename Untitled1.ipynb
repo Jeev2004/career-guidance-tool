{
 "cells": [
  {
   "cell_type": "code",
   "execution_count": 1,
   "id": "73c07d1c",
   "metadata": {},
   "outputs": [],
   "source": [
    "import joblib"
   ]
  },
  {
   "cell_type": "code",
   "execution_count": 7,
   "id": "469b289f",
   "metadata": {},
   "outputs": [],
   "source": [
    "model=joblib.load(r\"C:\\Users\\MOHANKUMAR\\Downloads\\model1.joblib\")"
   ]
  },
  {
   "cell_type": "code",
   "execution_count": 32,
   "id": "2813ae22",
   "metadata": {},
   "outputs": [],
   "source": [
    "import pandas as pd\n",
    "a = pd.DataFrame({\n",
    "'CIRCUIT DESIGN': 0,\n",
    "'CONTROL SYSTEMS':0,\n",
    "'POWER ELECTRONICS':4,    \n",
    "'ANALOG COMMUNICATION':1,\n",
    "'RF':2,\n",
    "'C++':2,\n",
    "'ELECTRICAL SYSTEM':3,\n",
    "'CAD':3,\n",
    "'PCB':4,\n",
    "'LABVIEW':4},index=[0])\n",
    "predict1 = model.predict(a)"
   ]
  },
  {
   "cell_type": "code",
   "execution_count": 33,
   "id": "fd879c99",
   "metadata": {},
   "outputs": [
    {
     "data": {
      "text/plain": [
       "array([3])"
      ]
     },
     "execution_count": 33,
     "metadata": {},
     "output_type": "execute_result"
    }
   ],
   "source": [
    "predict1"
   ]
  },
  {
   "cell_type": "code",
   "execution_count": 11,
   "id": "3fbb6f1d",
   "metadata": {},
   "outputs": [
    {
     "name": "stderr",
     "output_type": "stream",
     "text": [
      "C:\\Users\\MOHANKUMAR\\AppData\\Local\\Programs\\Python\\Python310\\lib\\site-packages\\sklearn\\base.py:299: UserWarning: Trying to unpickle estimator DecisionTreeClassifier from version 1.2.2 when using version 1.2.1. This might lead to breaking code or invalid results. Use at your own risk. For more info please refer to:\n",
      "https://scikit-learn.org/stable/model_persistence.html#security-maintainability-limitations\n",
      "  warnings.warn(\n",
      "C:\\Users\\MOHANKUMAR\\AppData\\Local\\Programs\\Python\\Python310\\lib\\site-packages\\sklearn\\base.py:299: UserWarning: Trying to unpickle estimator RandomForestClassifier from version 1.2.2 when using version 1.2.1. This might lead to breaking code or invalid results. Use at your own risk. For more info please refer to:\n",
      "https://scikit-learn.org/stable/model_persistence.html#security-maintainability-limitations\n",
      "  warnings.warn(\n"
     ]
    }
   ],
   "source": [
    "model=joblib.load(r\"C:\\Users\\MOHANKUMAR\\Downloads\\model.joblib\")"
   ]
  },
  {
   "cell_type": "code",
   "execution_count": 26,
   "id": "8807518e",
   "metadata": {},
   "outputs": [],
   "source": [
    "import pandas as pd\n",
    "a = pd.DataFrame({\n",
    "'CIRCUIT DESIGN': 2,\n",
    "'CONTROL SYSTEMS':2,\n",
    "'POWER ELECTRONICS':4,    \n",
    "'ANALOG COMMUNICATION':2,\n",
    "'RF':3,\n",
    "'C++':2,\n",
    "'ELECTRICAL SYSTEM':1,\n",
    "'CAD':2,\n",
    "'PCB':2,\n",
    "'LABVIEW':4},index=[0])\n",
    "predict1 = model.predict(a)"
   ]
  },
  {
   "cell_type": "code",
   "execution_count": 27,
   "id": "55a21119",
   "metadata": {},
   "outputs": [
    {
     "data": {
      "text/plain": [
       "array([5])"
      ]
     },
     "execution_count": 27,
     "metadata": {},
     "output_type": "execute_result"
    }
   ],
   "source": [
    "predict1"
   ]
  },
  {
   "cell_type": "code",
   "execution_count": 23,
   "id": "240d14f4",
   "metadata": {},
   "outputs": [
    {
     "name": "stdout",
     "output_type": "stream",
     "text": [
      "0\n"
     ]
    }
   ],
   "source": [
    "import numpy as np\n",
    "b = np.array(predict1)\n",
    "b\n",
    "print(\"\".join(map(str, b)))"
   ]
  },
  {
   "cell_type": "code",
   "execution_count": null,
   "id": "19f849d0",
   "metadata": {},
   "outputs": [],
   "source": []
  }
 ],
 "metadata": {
  "kernelspec": {
   "display_name": "Python 3 (ipykernel)",
   "language": "python",
   "name": "python3"
  },
  "language_info": {
   "codemirror_mode": {
    "name": "ipython",
    "version": 3
   },
   "file_extension": ".py",
   "mimetype": "text/x-python",
   "name": "python",
   "nbconvert_exporter": "python",
   "pygments_lexer": "ipython3",
   "version": "3.10.6"
  }
 },
 "nbformat": 4,
 "nbformat_minor": 5
}
